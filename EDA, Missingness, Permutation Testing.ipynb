{
 "cells": [
  {
   "cell_type": "markdown",
   "metadata": {},
   "source": [
    "# Project 3 Stock Trade\n",
    "\n",
    "**Haicheng Xu**"
   ]
  },
  {
   "cell_type": "markdown",
   "metadata": {},
   "source": [
    "## Summary of Findings\n",
    "\n",
    "### Introduction\n",
    "\n",
    "    Questions and Findings: \n",
    "        \n",
    "        1. Who are the top 5 congress people who have made the largest trades?\n",
    "            1. Suzan K. DelBene\n",
    "            2. Josh Gottheimer\n",
    "            3. Mark Green\n",
    "            4. Kevin Hern\n",
    "            5. Nancy Pelosi\n",
    "        \n",
    "        2. What are the top 5 most traded companies by congress people?\n",
    "            1. Microsoft\n",
    "            2. Apple\n",
    "            3. Antero Midstream\n",
    "            4. BlackRock    \n",
    "            5. Shell\n",
    "        \n",
    "        3. Do Republicans make larger trades than Democrats?\n",
    "        \n",
    "            We performed a permutation test to check if Republicans make larger trades than Democrats. We observed a p-value of 0.084, which is greater than our alpha of 0.05. Therefore, we don't have enough evidence to reject our null hypothesis. \n",
    "        \n",
    "\n",
    "    Datasets:\n",
    "        1. The first dataset is the stock trades data provided in the instruction. It overviews the stock trading activities of congress members. We used this dataset to perform assessments of missingness of the ticker column. We tested the ticker column against these columns: [owner, amount, and district]. \n",
    "        \n",
    "        2. The second dataset is a list of congress members with their political affiliation which we webscraped from congress.gov. We cleaned the names of the congress members in both datasets. We then merged these two datasets by congress member's name. The resulting dataset includes an extra column of congress member's party affiliation. With this new merged dataset, we were able to answer whether or not one party makes larger trades than the other. \n",
    "\n",
    "    \n",
    "    \n",
    "### Cleaning and EDA\n",
    "    \n",
    "    Cleaning:\n",
    "        1. We replaced the None and '--' values with NaN in the columns that required it.\n",
    "        2. We cleaned and converted the date's into Panda datetime\n",
    "        3. We dropped insignificant columns: [disclosure year, capital gains over 200]\n",
    "        4. After we merged the data which we scraped from congress.gov, the missingness of the party column was 4.11%. We replaced the missing values of representative's party column by googling their party affiliation. As a result, we do not have any missing values in the party column.\n",
    "        5. We cleaned the representative column by dropping their titles.\n",
    "\n",
    "    EDA:\n",
    "        1. Univariate Analysis: We plotted the frequency of the estimated transaction amount and found that the distribution of the transaction amout is skewed right. In addition, the median and the mode of transactions is $8000. Finally, we calculated the summary statistics of the transactions column:\n",
    "        \n",
    "            count    1.425400e+04\n",
    "            mean     5.785841e+04\n",
    "            std      5.917958e+05\n",
    "            min      1.001000e+03\n",
    "            25%      8.000000e+03\n",
    "            50%      8.000000e+03\n",
    "            75%      3.250000e+04\n",
    "            max      5.000000e+07\n",
    "            \n",
    "        2. Bivariate Analysis: We plotted the distribution of estimated trades for each party on the same bar chart. The distribution of trades seems to be significantly different for each party. We noticed Republicans have more trades for higher estimated amounts, which results in a higher mean value for Republicans. Therefore, we decided to test if there's a significant difference between the two distribution for our permutation test. \n",
    "        \n",
    "        3. Interesting Aggregates: We performed the three following aggregate:\n",
    "            i. We grouped by owner types and found that joint owner type has the highest total amount traded. Dependent owner type has the lowest total amount traded. \n",
    "            \n",
    "            ii. We grouped by state and found that California has the highest total amount traded, while Arizona traded the least. In addition, we found that 7 states are not included in the data.\n",
    "            \n",
    "            iii. (Answer for Qestion 3) We grouped by ticker and found that the top five most traded companies were: [Microsoft, Apple, Antero Midstream, BlackRock, Shell].\n",
    "           \n",
    "           \n",
    "       \n",
    "       \n",
    "### Assessment of Missingness: \n",
    "        \n",
    "        NMAR Conclusion: We do NOT believe there is a column in our dataset that is NMAR.\n",
    "\n",
    "        Significance Level for all three hypothesis test: alpha = 0.05\n",
    "\n",
    "        Null Hypothesis: The distribution of 'owner' when 'ticker' is missing is the same as the distribution of 'owner' when 'ticker' is not missing.\n",
    "        Alternative Hypothesis: The distribution of 'owner' when 'ticker' is missing is NOT the same as the distribution of 'owner' when 'ticker' is not missing.\n",
    "\n",
    "        Result: p-value = 0\n",
    "\n",
    "        Conclusion: Since the p-value of 0 is less than alpha of 0.05, we reject our null hypothesis. The missingness of the ticker column is MAR dependent on the owner column.\n",
    "        \n",
    "        \n",
    "        \n",
    "        Null Hypothesis: The distribution of 'district' when 'ticker' is missing is the same as the distribution of 'district' when 'ticker' is not missing.\n",
    "        Alternative Hypothesis: The distribution of 'district' when 'ticker' is missing is NOT the same as the distribution of 'district' when 'ticker' is not missing.\n",
    "\n",
    "        Result: p-value = 0\n",
    "\n",
    "        Conclusion: Since the p-value of 0 is less than alpha of 0.05, we reject our null hypothesis. The missingness of the ticker column is MAR dependent on the district column.\n",
    "\n",
    "\n",
    "\n",
    "        Null Hypothesis: The distribution of 'est_amount' (estimated amount traded) when 'ticker' is missing is the same as the distribution of 'est_amount' when 'ticker' is not missing.\n",
    "        Alternative Hypothesis: The distribution of 'est_amount' when 'ticker' is missing is NOT the same as the distribution of 'est_amount' when 'ticker' is not missing.\n",
    "\n",
    "        Result: p-value = 0\n",
    "\n",
    "        Conclusion: Since the p-value of 0 is less than alpha of 0.05, we reject our null hypothesis. The missingness of the ticker column is MAR dependent on the estimated amount column.\n",
    "        \n",
    "        Final Conclusion: The missingness of the ticker column is MAR dependent on the [owner, district, estimated amount] columns\n",
    "\n",
    "         Since missingness of the ticker column is not missing completely at random, the results obtained using this column will be biased. Therefore, we decided to not use this column to answer our hypothesis/permutation testing section of this project.\n",
    "        \n",
    "\n",
    "### Permutation Testing (Q1)\n",
    "\n",
    "Question: Do Republicans make larger trades than Democrats?\n",
    "\n",
    "    H0: In the population, the mean transaction amount for the Democratic and Republican parties have the same distribution. The difference we saw was due to random chance.\n",
    "    \n",
    "    H1: In the population, the mean transaction amount for Republicans is higher than that of Democrats, on average.\n",
    "    \n",
    "    Test statistic: Signed difference of means between Republican trades and Democrat trades.\n",
    "    \n",
    "    Alpha: 0.05\n",
    "    \n",
    "    Result: p-value = 0.084\n",
    "   \n",
    "    Conclusion: We observed a p-value of 0.084, which is greater than our alpha of 0.05. Therefore, we don't have enough evidence to reject our null hypothesis. \n",
    "    \n"
   ]
  },
  {
   "cell_type": "markdown",
   "metadata": {},
   "source": [
    "## Code"
   ]
  },
  {
   "cell_type": "code",
   "execution_count": 26,
   "metadata": {
    "ExecuteTime": {
     "end_time": "2019-10-31T23:36:28.652554Z",
     "start_time": "2019-10-31T23:36:27.180520Z"
    }
   },
   "outputs": [],
   "source": [
    "import matplotlib.pyplot as plt\n",
    "import numpy as np\n",
    "import os\n",
    "import pandas as pd\n",
    "import seaborn as sns\n",
    "import json"
   ]
  },
  {
   "cell_type": "markdown",
   "metadata": {},
   "source": [
    "Opened and loaded in the json file that we downloaded from the given website"
   ]
  },
  {
   "cell_type": "code",
   "execution_count": 27,
   "metadata": {
    "scrolled": false
   },
   "outputs": [],
   "source": [
    "f = open('all_transactions.json')\n",
    "rows = [json.loads(x) for x in open('all_transactions.json')]"
   ]
  },
  {
   "cell_type": "markdown",
   "metadata": {},
   "source": [
    "### Cleaning and EDA"
   ]
  },
  {
   "cell_type": "markdown",
   "metadata": {},
   "source": [
    "#### Data Cleaning"
   ]
  },
  {
   "cell_type": "markdown",
   "metadata": {},
   "source": [
    "Dropped irrelevant columns"
   ]
  },
  {
   "cell_type": "code",
   "execution_count": 28,
   "metadata": {
    "scrolled": true
   },
   "outputs": [],
   "source": [
    "df = pd.DataFrame(rows[0]).drop(['disclosure_year', 'cap_gains_over_200_usd'], axis = 1)"
   ]
  },
  {
   "cell_type": "markdown",
   "metadata": {},
   "source": [
    "Cleaned transaction date column, using information from the disclosure year column"
   ]
  },
  {
   "cell_type": "code",
   "execution_count": 29,
   "metadata": {},
   "outputs": [],
   "source": [
    "df['transaction_date'] = df['transaction_date'].str.replace('0009','2021').str.replace('0021', '2021').str.replace('20221','2021').str.replace('0201', '2021')"
   ]
  },
  {
   "cell_type": "markdown",
   "metadata": {},
   "source": [
    "Turned the string dates into Panda datetime objects"
   ]
  },
  {
   "cell_type": "code",
   "execution_count": 30,
   "metadata": {
    "scrolled": true
   },
   "outputs": [],
   "source": [
    "df['disclosure_date'] = df['disclosure_date'].transform(pd.to_datetime)\n",
    "df['transaction_date'] = df['transaction_date'].transform(pd.to_datetime)"
   ]
  },
  {
   "cell_type": "markdown",
   "metadata": {},
   "source": [
    "Cleaned owner and ticker"
   ]
  },
  {
   "cell_type": "code",
   "execution_count": 31,
   "metadata": {
    "scrolled": true
   },
   "outputs": [],
   "source": [
    "#Replaced their null values with NaN\n",
    "df['owner'] = df['owner'].replace({None: np.nan, '--': np.nan})\n",
    "df['ticker'] = df['ticker'].replace({'--': np.nan})"
   ]
  },
  {
   "cell_type": "markdown",
   "metadata": {},
   "source": [
    "Cleaned representative column"
   ]
  },
  {
   "cell_type": "code",
   "execution_count": 32,
   "metadata": {},
   "outputs": [
    {
     "name": "stderr",
     "output_type": "stream",
     "text": [
      "C:\\Users\\haich\\anaconda3\\lib\\site-packages\\ipykernel_launcher.py:4: FutureWarning: The default value of regex will change from True to False in a future version.\n",
      "  after removing the cwd from sys.path.\n",
      "C:\\Users\\haich\\anaconda3\\lib\\site-packages\\ipykernel_launcher.py:5: FutureWarning: The default value of regex will change from True to False in a future version.\n",
      "  \"\"\"\n",
      "C:\\Users\\haich\\anaconda3\\lib\\site-packages\\ipykernel_launcher.py:6: FutureWarning: The default value of regex will change from True to False in a future version.\n",
      "  \n"
     ]
    }
   ],
   "source": [
    "#Removed titles from representatives' names\n",
    "df['representative'] = (df['representative']\n",
    "                        .str.replace('None ','')\n",
    "                        .str.replace('Hon. ', '')\n",
    "                        .str.replace('Mr. ', '')\n",
    "                        .str.replace('Mrs. ', '')\n",
    "                        .str.replace('Dr ', '')\n",
    "                        .str.replace('MD, ', '')\n",
    "                        .str.replace(' Facs', '')\n",
    "                        .str.replace(' FACS', '')\n",
    "                       )"
   ]
  },
  {
   "cell_type": "markdown",
   "metadata": {},
   "source": [
    "This function returns estimated amounts given a range the string in the amounts column"
   ]
  },
  {
   "cell_type": "code",
   "execution_count": 33,
   "metadata": {},
   "outputs": [],
   "source": [
    "# Takes in a string range of amount in USD, returns mean rounded to the nearest integer\n",
    "def clean_amount(s):\n",
    "    lst = s.replace(',','').replace('$','').replace(' -','').replace(' +','').split(' ')\n",
    "    return int((float(lst[-1]) + float(lst[0]))/2)"
   ]
  },
  {
   "cell_type": "markdown",
   "metadata": {},
   "source": [
    "Created estimated amount column using the 'clean_amount' function"
   ]
  },
  {
   "cell_type": "code",
   "execution_count": 34,
   "metadata": {},
   "outputs": [],
   "source": [
    "# Applied clean amount function\n",
    "df['est_amount'] = df['amount'].transform(clean_amount)"
   ]
  },
  {
   "cell_type": "code",
   "execution_count": null,
   "metadata": {},
   "outputs": [],
   "source": []
  },
  {
   "cell_type": "markdown",
   "metadata": {},
   "source": [
    "#### Web Scraping & Merging Two Datasets"
   ]
  },
  {
   "cell_type": "code",
   "execution_count": 35,
   "metadata": {},
   "outputs": [],
   "source": [
    "import requests \n",
    "import bs4"
   ]
  },
  {
   "cell_type": "markdown",
   "metadata": {},
   "source": [
    "Web scraped congress members' political affiliation from https://www.congress.gov"
   ]
  },
  {
   "cell_type": "code",
   "execution_count": 36,
   "metadata": {},
   "outputs": [],
   "source": [
    "# Web scraped for congress members who served from 2019-2021\n",
    "big_table = pd.DataFrame()\n",
    "for i in range(1,4):\n",
    "    soup = bs4.BeautifulSoup(requests.get(f'https://www.congress.gov/members?q=%7B%22congress%22%3A%22116%22%7D&pageSize=250&page={i}').text)\n",
    "    names = [dude.find('a').text for dude in soup.find_all('li',{'class':'expanded'})]\n",
    "    names = pd.Series([name.replace('Representative ', '').replace('Senator ', '') for name in names])\n",
    "    name_fix = lambda x: x.split(', ')[1].split(' ')[0] + ' ' + x.split(', ')[0].split(' ')[-1]\n",
    "    names = names.transform(name_fix)\n",
    "    span = pd.Series([s.text for s in soup.find_all('span',{'class':'result-item'})])\n",
    "    parties = span[span.str.contains('Party')].str.split('\\n').apply(lambda lst: lst[2])[::2].reset_index(drop = True)\n",
    "    small_table = pd.concat([names,parties],axis = 1)\n",
    "    big_table = pd.concat([big_table,small_table])\n",
    "    \n",
    "# Web scraped for congress members who served from 2021-2022\n",
    "for i in range(1,4):\n",
    "    soup = bs4.BeautifulSoup(requests.get(f'https://www.congress.gov/members?q=%7B%22congress%22%3A%22117%22%7D&pageSize=250&page={i}').text)\n",
    "    names = [dude.find('a').text for dude in soup.find_all('li',{'class':'expanded'})]\n",
    "    names = pd.Series([name.replace('Representative ', '').replace('Senator ', '') for name in names])\n",
    "    name_fix = lambda x: x.split(', ')[1].split(' ')[0] + ' ' + x.split(', ')[0].split(' ')[-1]\n",
    "    names = names.transform(name_fix)\n",
    "    span = pd.Series([s.text for s in soup.find_all('span',{'class':'result-item'})])\n",
    "    parties = span[span.str.contains('Party')].str.split('\\n').apply(lambda lst: lst[2])[::2].reset_index(drop = True)\n",
    "    small_table = pd.concat([names,parties],axis = 1)\n",
    "    big_table = pd.concat([big_table,small_table])\n",
    "    \n",
    "# New DataFrame containing the results from web scraping\n",
    "big_table.columns = ['Name','Party']\n",
    "big_table = big_table.set_index('Name')"
   ]
  },
  {
   "cell_type": "code",
   "execution_count": 37,
   "metadata": {},
   "outputs": [
    {
     "data": {
      "text/html": [
       "<div>\n",
       "<style scoped>\n",
       "    .dataframe tbody tr th:only-of-type {\n",
       "        vertical-align: middle;\n",
       "    }\n",
       "\n",
       "    .dataframe tbody tr th {\n",
       "        vertical-align: top;\n",
       "    }\n",
       "\n",
       "    .dataframe thead th {\n",
       "        text-align: right;\n",
       "    }\n",
       "</style>\n",
       "<table border=\"1\" class=\"dataframe\">\n",
       "  <thead>\n",
       "    <tr style=\"text-align: right;\">\n",
       "      <th></th>\n",
       "      <th>Party</th>\n",
       "    </tr>\n",
       "    <tr>\n",
       "      <th>Name</th>\n",
       "      <th></th>\n",
       "    </tr>\n",
       "  </thead>\n",
       "  <tbody>\n",
       "    <tr>\n",
       "      <th>Ralph Abraham</th>\n",
       "      <td>Republican</td>\n",
       "    </tr>\n",
       "    <tr>\n",
       "      <th>Alma Adams</th>\n",
       "      <td>Democratic</td>\n",
       "    </tr>\n",
       "    <tr>\n",
       "      <th>Robert Aderholt</th>\n",
       "      <td>Republican</td>\n",
       "    </tr>\n",
       "    <tr>\n",
       "      <th>Pete Aguilar</th>\n",
       "      <td>Democratic</td>\n",
       "    </tr>\n",
       "    <tr>\n",
       "      <th>Lamar Alexander</th>\n",
       "      <td>Republican</td>\n",
       "    </tr>\n",
       "    <tr>\n",
       "      <th>...</th>\n",
       "      <td>...</td>\n",
       "    </tr>\n",
       "    <tr>\n",
       "      <th>Ron Wyden</th>\n",
       "      <td>Democratic</td>\n",
       "    </tr>\n",
       "    <tr>\n",
       "      <th>John Yarmuth</th>\n",
       "      <td>Democratic</td>\n",
       "    </tr>\n",
       "    <tr>\n",
       "      <th>Don Young</th>\n",
       "      <td>Republican</td>\n",
       "    </tr>\n",
       "    <tr>\n",
       "      <th>Todd Young</th>\n",
       "      <td>Republican</td>\n",
       "    </tr>\n",
       "    <tr>\n",
       "      <th>Lee Zeldin</th>\n",
       "      <td>Republican</td>\n",
       "    </tr>\n",
       "  </tbody>\n",
       "</table>\n",
       "<p>1099 rows × 1 columns</p>\n",
       "</div>"
      ],
      "text/plain": [
       "                      Party\n",
       "Name                       \n",
       "Ralph Abraham    Republican\n",
       "Alma Adams       Democratic\n",
       "Robert Aderholt  Republican\n",
       "Pete Aguilar     Democratic\n",
       "Lamar Alexander  Republican\n",
       "...                     ...\n",
       "Ron Wyden        Democratic\n",
       "John Yarmuth     Democratic\n",
       "Don Young        Republican\n",
       "Todd Young       Republican\n",
       "Lee Zeldin       Republican\n",
       "\n",
       "[1099 rows x 1 columns]"
      ]
     },
     "metadata": {},
     "output_type": "display_data"
    }
   ],
   "source": [
    "display(big_table)"
   ]
  },
  {
   "cell_type": "markdown",
   "metadata": {},
   "source": [
    "Merged original dateset with the web scraped dataset"
   ]
  },
  {
   "cell_type": "code",
   "execution_count": 38,
   "metadata": {},
   "outputs": [],
   "source": [
    "df_c = df.copy()\n",
    "#Cleaned the name of representatives to FirstName LastName format for merging\n",
    "df_c['Name1'] = df_c['representative'].transform(lambda x: x.split(' ')[0] + ' ' + x.split(' ')[-1])\n",
    "# Merged the web sraped party column onto the original DataFrame\n",
    "second_merge = df_c.merge(big_table, how = 'left', left_on = 'Name1', right_index = True)"
   ]
  },
  {
   "cell_type": "markdown",
   "metadata": {},
   "source": [
    "4% of Party column is NaN"
   ]
  },
  {
   "cell_type": "code",
   "execution_count": 39,
   "metadata": {},
   "outputs": [
    {
     "data": {
      "text/plain": [
       "0.04108108108108108"
      ]
     },
     "execution_count": 39,
     "metadata": {},
     "output_type": "execute_result"
    }
   ],
   "source": [
    "#Returns percentage of NaN Party values\n",
    "second_merge['Party'].isna().mean()"
   ]
  },
  {
   "cell_type": "code",
   "execution_count": 40,
   "metadata": {},
   "outputs": [
    {
     "data": {
      "text/html": [
       "<div>\n",
       "<style scoped>\n",
       "    .dataframe tbody tr th:only-of-type {\n",
       "        vertical-align: middle;\n",
       "    }\n",
       "\n",
       "    .dataframe tbody tr th {\n",
       "        vertical-align: top;\n",
       "    }\n",
       "\n",
       "    .dataframe thead th {\n",
       "        text-align: right;\n",
       "    }\n",
       "</style>\n",
       "<table border=\"1\" class=\"dataframe\">\n",
       "  <thead>\n",
       "    <tr style=\"text-align: right;\">\n",
       "      <th></th>\n",
       "      <th>Party</th>\n",
       "    </tr>\n",
       "    <tr>\n",
       "      <th>Name</th>\n",
       "      <th></th>\n",
       "    </tr>\n",
       "  </thead>\n",
       "  <tbody>\n",
       "    <tr>\n",
       "      <th>Ralph Abraham</th>\n",
       "      <td>Republican</td>\n",
       "    </tr>\n",
       "    <tr>\n",
       "      <th>Alma Adams</th>\n",
       "      <td>Democratic</td>\n",
       "    </tr>\n",
       "    <tr>\n",
       "      <th>Robert Aderholt</th>\n",
       "      <td>Republican</td>\n",
       "    </tr>\n",
       "    <tr>\n",
       "      <th>Pete Aguilar</th>\n",
       "      <td>Democratic</td>\n",
       "    </tr>\n",
       "    <tr>\n",
       "      <th>Lamar Alexander</th>\n",
       "      <td>Republican</td>\n",
       "    </tr>\n",
       "    <tr>\n",
       "      <th>...</th>\n",
       "      <td>...</td>\n",
       "    </tr>\n",
       "    <tr>\n",
       "      <th>Ron Wyden</th>\n",
       "      <td>Democratic</td>\n",
       "    </tr>\n",
       "    <tr>\n",
       "      <th>John Yarmuth</th>\n",
       "      <td>Democratic</td>\n",
       "    </tr>\n",
       "    <tr>\n",
       "      <th>Don Young</th>\n",
       "      <td>Republican</td>\n",
       "    </tr>\n",
       "    <tr>\n",
       "      <th>Todd Young</th>\n",
       "      <td>Republican</td>\n",
       "    </tr>\n",
       "    <tr>\n",
       "      <th>Lee Zeldin</th>\n",
       "      <td>Republican</td>\n",
       "    </tr>\n",
       "  </tbody>\n",
       "</table>\n",
       "<p>1099 rows × 1 columns</p>\n",
       "</div>"
      ],
      "text/plain": [
       "                      Party\n",
       "Name                       \n",
       "Ralph Abraham    Republican\n",
       "Alma Adams       Democratic\n",
       "Robert Aderholt  Republican\n",
       "Pete Aguilar     Democratic\n",
       "Lamar Alexander  Republican\n",
       "...                     ...\n",
       "Ron Wyden        Democratic\n",
       "John Yarmuth     Democratic\n",
       "Don Young        Republican\n",
       "Todd Young       Republican\n",
       "Lee Zeldin       Republican\n",
       "\n",
       "[1099 rows x 1 columns]"
      ]
     },
     "execution_count": 40,
     "metadata": {},
     "output_type": "execute_result"
    }
   ],
   "source": [
    "big_table"
   ]
  },
  {
   "cell_type": "code",
   "execution_count": 41,
   "metadata": {},
   "outputs": [
    {
     "data": {
      "text/html": [
       "<div>\n",
       "<style scoped>\n",
       "    .dataframe tbody tr th:only-of-type {\n",
       "        vertical-align: middle;\n",
       "    }\n",
       "\n",
       "    .dataframe tbody tr th {\n",
       "        vertical-align: top;\n",
       "    }\n",
       "\n",
       "    .dataframe thead th {\n",
       "        text-align: right;\n",
       "    }\n",
       "</style>\n",
       "<table border=\"1\" class=\"dataframe\">\n",
       "  <thead>\n",
       "    <tr style=\"text-align: right;\">\n",
       "      <th></th>\n",
       "      <th>disclosure_date</th>\n",
       "      <th>transaction_date</th>\n",
       "      <th>owner</th>\n",
       "      <th>ticker</th>\n",
       "      <th>asset_description</th>\n",
       "      <th>type</th>\n",
       "      <th>amount</th>\n",
       "      <th>representative</th>\n",
       "      <th>district</th>\n",
       "      <th>ptr_link</th>\n",
       "      <th>est_amount</th>\n",
       "    </tr>\n",
       "  </thead>\n",
       "  <tbody>\n",
       "    <tr>\n",
       "      <th>13268</th>\n",
       "      <td>2020-06-25</td>\n",
       "      <td>2020-04-18</td>\n",
       "      <td>self</td>\n",
       "      <td>FTQGX</td>\n",
       "      <td>Fidelity Focused Stock</td>\n",
       "      <td>exchange</td>\n",
       "      <td>$1,001 - $15,000</td>\n",
       "      <td>Alan S. Lowenthal</td>\n",
       "      <td>CA47</td>\n",
       "      <td>https://disclosures-clerk.house.gov/public_dis...</td>\n",
       "      <td>8000</td>\n",
       "    </tr>\n",
       "    <tr>\n",
       "      <th>13272</th>\n",
       "      <td>2020-06-25</td>\n",
       "      <td>2020-04-18</td>\n",
       "      <td>self</td>\n",
       "      <td>FIDSX</td>\n",
       "      <td>Fidelity Select Financial Services</td>\n",
       "      <td>exchange</td>\n",
       "      <td>$1,001 - $15,000</td>\n",
       "      <td>Alan S. Lowenthal</td>\n",
       "      <td>CA47</td>\n",
       "      <td>https://disclosures-clerk.house.gov/public_dis...</td>\n",
       "      <td>8000</td>\n",
       "    </tr>\n",
       "    <tr>\n",
       "      <th>13271</th>\n",
       "      <td>2020-06-25</td>\n",
       "      <td>2020-04-18</td>\n",
       "      <td>self</td>\n",
       "      <td>FSCPX</td>\n",
       "      <td>Fidelity Select Consumer Discretion</td>\n",
       "      <td>exchange</td>\n",
       "      <td>$1,001 - $15,000</td>\n",
       "      <td>Alan S. Lowenthal</td>\n",
       "      <td>CA47</td>\n",
       "      <td>https://disclosures-clerk.house.gov/public_dis...</td>\n",
       "      <td>8000</td>\n",
       "    </tr>\n",
       "    <tr>\n",
       "      <th>13270</th>\n",
       "      <td>2020-06-25</td>\n",
       "      <td>2020-04-18</td>\n",
       "      <td>self</td>\n",
       "      <td>FBMPX</td>\n",
       "      <td>Fidelity Select Communication Services</td>\n",
       "      <td>exchange</td>\n",
       "      <td>$1,001 - $15,000</td>\n",
       "      <td>Alan S. Lowenthal</td>\n",
       "      <td>CA47</td>\n",
       "      <td>https://disclosures-clerk.house.gov/public_dis...</td>\n",
       "      <td>8000</td>\n",
       "    </tr>\n",
       "    <tr>\n",
       "      <th>13269</th>\n",
       "      <td>2020-06-25</td>\n",
       "      <td>2020-04-18</td>\n",
       "      <td>self</td>\n",
       "      <td>FLVEX</td>\n",
       "      <td>Fidelity Large Cap Value Enhanced Index</td>\n",
       "      <td>exchange</td>\n",
       "      <td>$1,001 - $15,000</td>\n",
       "      <td>Alan S. Lowenthal</td>\n",
       "      <td>CA47</td>\n",
       "      <td>https://disclosures-clerk.house.gov/public_dis...</td>\n",
       "      <td>8000</td>\n",
       "    </tr>\n",
       "    <tr>\n",
       "      <th>...</th>\n",
       "      <td>...</td>\n",
       "      <td>...</td>\n",
       "      <td>...</td>\n",
       "      <td>...</td>\n",
       "      <td>...</td>\n",
       "      <td>...</td>\n",
       "      <td>...</td>\n",
       "      <td>...</td>\n",
       "      <td>...</td>\n",
       "      <td>...</td>\n",
       "      <td>...</td>\n",
       "    </tr>\n",
       "    <tr>\n",
       "      <th>13040</th>\n",
       "      <td>2021-07-28</td>\n",
       "      <td>2020-05-08</td>\n",
       "      <td>NaN</td>\n",
       "      <td>AGN</td>\n",
       "      <td>Allergen PLC Ordinary Shares</td>\n",
       "      <td>exchange</td>\n",
       "      <td>$1,001 - $15,000</td>\n",
       "      <td>Steve Chabot</td>\n",
       "      <td>OH01</td>\n",
       "      <td>https://disclosures-clerk.house.gov/public_dis...</td>\n",
       "      <td>8000</td>\n",
       "    </tr>\n",
       "    <tr>\n",
       "      <th>9716</th>\n",
       "      <td>2020-02-27</td>\n",
       "      <td>2020-01-08</td>\n",
       "      <td>NaN</td>\n",
       "      <td>NaN</td>\n",
       "      <td>OTH Holding, LLC</td>\n",
       "      <td>exchange</td>\n",
       "      <td>$1,001 - $15,000</td>\n",
       "      <td>Susan W. Brooks</td>\n",
       "      <td>IN05</td>\n",
       "      <td>https://disclosures-clerk.house.gov/public_dis...</td>\n",
       "      <td>8000</td>\n",
       "    </tr>\n",
       "    <tr>\n",
       "      <th>673</th>\n",
       "      <td>2021-05-10</td>\n",
       "      <td>2021-04-21</td>\n",
       "      <td>joint</td>\n",
       "      <td>MRVL</td>\n",
       "      <td>Marvell Technology Inc</td>\n",
       "      <td>exchange</td>\n",
       "      <td>$1,001 -</td>\n",
       "      <td>Susie Lee</td>\n",
       "      <td>NV03</td>\n",
       "      <td>https://disclosures-clerk.house.gov/public_dis...</td>\n",
       "      <td>1001</td>\n",
       "    </tr>\n",
       "    <tr>\n",
       "      <th>4882</th>\n",
       "      <td>2021-07-19</td>\n",
       "      <td>2021-06-18</td>\n",
       "      <td>joint</td>\n",
       "      <td>PLTR</td>\n",
       "      <td>Palantir Technologies - transfer from passive ...</td>\n",
       "      <td>exchange</td>\n",
       "      <td>$100,001 - $250,000</td>\n",
       "      <td>Suzan K. DelBene</td>\n",
       "      <td>WA01</td>\n",
       "      <td>https://disclosures-clerk.house.gov/public_dis...</td>\n",
       "      <td>175000</td>\n",
       "    </tr>\n",
       "    <tr>\n",
       "      <th>1647</th>\n",
       "      <td>2020-03-10</td>\n",
       "      <td>2020-02-04</td>\n",
       "      <td>self</td>\n",
       "      <td>PLD</td>\n",
       "      <td>ProLogis, Inc.</td>\n",
       "      <td>exchange</td>\n",
       "      <td>$1,001 - $15,000</td>\n",
       "      <td>Zoe Lofgren</td>\n",
       "      <td>CA19</td>\n",
       "      <td>https://disclosures-clerk.house.gov/public_dis...</td>\n",
       "      <td>8000</td>\n",
       "    </tr>\n",
       "  </tbody>\n",
       "</table>\n",
       "<p>128 rows × 11 columns</p>\n",
       "</div>"
      ],
      "text/plain": [
       "      disclosure_date transaction_date  owner ticker  \\\n",
       "13268      2020-06-25       2020-04-18   self  FTQGX   \n",
       "13272      2020-06-25       2020-04-18   self  FIDSX   \n",
       "13271      2020-06-25       2020-04-18   self  FSCPX   \n",
       "13270      2020-06-25       2020-04-18   self  FBMPX   \n",
       "13269      2020-06-25       2020-04-18   self  FLVEX   \n",
       "...               ...              ...    ...    ...   \n",
       "13040      2021-07-28       2020-05-08    NaN    AGN   \n",
       "9716       2020-02-27       2020-01-08    NaN    NaN   \n",
       "673        2021-05-10       2021-04-21  joint   MRVL   \n",
       "4882       2021-07-19       2021-06-18  joint   PLTR   \n",
       "1647       2020-03-10       2020-02-04   self    PLD   \n",
       "\n",
       "                                       asset_description      type  \\\n",
       "13268                             Fidelity Focused Stock  exchange   \n",
       "13272                 Fidelity Select Financial Services  exchange   \n",
       "13271                Fidelity Select Consumer Discretion  exchange   \n",
       "13270             Fidelity Select Communication Services  exchange   \n",
       "13269            Fidelity Large Cap Value Enhanced Index  exchange   \n",
       "...                                                  ...       ...   \n",
       "13040                       Allergen PLC Ordinary Shares  exchange   \n",
       "9716                                    OTH Holding, LLC  exchange   \n",
       "673                               Marvell Technology Inc  exchange   \n",
       "4882   Palantir Technologies - transfer from passive ...  exchange   \n",
       "1647                                      ProLogis, Inc.  exchange   \n",
       "\n",
       "                    amount     representative district  \\\n",
       "13268     $1,001 - $15,000  Alan S. Lowenthal     CA47   \n",
       "13272     $1,001 - $15,000  Alan S. Lowenthal     CA47   \n",
       "13271     $1,001 - $15,000  Alan S. Lowenthal     CA47   \n",
       "13270     $1,001 - $15,000  Alan S. Lowenthal     CA47   \n",
       "13269     $1,001 - $15,000  Alan S. Lowenthal     CA47   \n",
       "...                    ...                ...      ...   \n",
       "13040     $1,001 - $15,000       Steve Chabot     OH01   \n",
       "9716      $1,001 - $15,000    Susan W. Brooks     IN05   \n",
       "673               $1,001 -          Susie Lee     NV03   \n",
       "4882   $100,001 - $250,000   Suzan K. DelBene     WA01   \n",
       "1647      $1,001 - $15,000        Zoe Lofgren     CA19   \n",
       "\n",
       "                                                ptr_link  est_amount  \n",
       "13268  https://disclosures-clerk.house.gov/public_dis...        8000  \n",
       "13272  https://disclosures-clerk.house.gov/public_dis...        8000  \n",
       "13271  https://disclosures-clerk.house.gov/public_dis...        8000  \n",
       "13270  https://disclosures-clerk.house.gov/public_dis...        8000  \n",
       "13269  https://disclosures-clerk.house.gov/public_dis...        8000  \n",
       "...                                                  ...         ...  \n",
       "13040  https://disclosures-clerk.house.gov/public_dis...        8000  \n",
       "9716   https://disclosures-clerk.house.gov/public_dis...        8000  \n",
       "673    https://disclosures-clerk.house.gov/public_dis...        1001  \n",
       "4882   https://disclosures-clerk.house.gov/public_dis...      175000  \n",
       "1647   https://disclosures-clerk.house.gov/public_dis...        8000  \n",
       "\n",
       "[128 rows x 11 columns]"
      ]
     },
     "execution_count": 41,
     "metadata": {},
     "output_type": "execute_result"
    }
   ],
   "source": [
    "df[df['type']=='exchange'].sort_values('representative')"
   ]
  },
  {
   "cell_type": "markdown",
   "metadata": {},
   "source": [
    "Manually filled in NaN Party values using Google"
   ]
  },
  {
   "cell_type": "code",
   "execution_count": 42,
   "metadata": {},
   "outputs": [],
   "source": [
    "# Dictionary of names and corresponding party\n",
    "null_names = {'Aston Donald McEachin':'Democratic', 'Christopher L. Jacobs':'Republican', 'Greg Steube':'Republican',\n",
    "       'Rohit Khanna':'Democratic', 'Richard W. Allen':'Republican', 'James E Hon Banks':\"Republican\",\n",
    "       'James French Hill':'Republican', 'Cindy Axne':'Democratic', 'Scott Franklin':'Republican',\n",
    "       'James E. Banks':'Republican', 'Michael Garcia':'Republican', 'Patrick Fallon':'Republican',\n",
    "       'Daniel Crenshaw':'Republican', 'Nicholas Van Taylor':'Republican', 'Michael John Gallagher':'Republican',\n",
    "       'Ashley Hinson Arenholz':'Republican', 'Kenneth R. Buck':'Republican',\n",
    "       'David Madison Cawthorn':'Republican', 'Nicholas V. Taylor':'Republican', 'James M. Costa':'Democratic',\n",
    "       'Linda T. Sanchez':'Democratic', 'Felix Barry Moore':'Republican', 'S. Raja Krishnamoorthi':'Democratic',\n",
    "       'James Hagedorn':'Republican'}"
   ]
  },
  {
   "cell_type": "markdown",
   "metadata": {},
   "source": [
    "Filled in NaN values with respective political party"
   ]
  },
  {
   "cell_type": "code",
   "execution_count": 43,
   "metadata": {
    "scrolled": true
   },
   "outputs": [
    {
     "data": {
      "text/html": [
       "<div>\n",
       "<style scoped>\n",
       "    .dataframe tbody tr th:only-of-type {\n",
       "        vertical-align: middle;\n",
       "    }\n",
       "\n",
       "    .dataframe tbody tr th {\n",
       "        vertical-align: top;\n",
       "    }\n",
       "\n",
       "    .dataframe thead th {\n",
       "        text-align: right;\n",
       "    }\n",
       "</style>\n",
       "<table border=\"1\" class=\"dataframe\">\n",
       "  <thead>\n",
       "    <tr style=\"text-align: right;\">\n",
       "      <th></th>\n",
       "      <th>disclosure_date</th>\n",
       "      <th>transaction_date</th>\n",
       "      <th>owner</th>\n",
       "      <th>ticker</th>\n",
       "      <th>asset_description</th>\n",
       "      <th>type</th>\n",
       "      <th>amount</th>\n",
       "      <th>representative</th>\n",
       "      <th>district</th>\n",
       "      <th>ptr_link</th>\n",
       "      <th>est_amount</th>\n",
       "      <th>Party</th>\n",
       "    </tr>\n",
       "    <tr>\n",
       "      <th>index</th>\n",
       "      <th></th>\n",
       "      <th></th>\n",
       "      <th></th>\n",
       "      <th></th>\n",
       "      <th></th>\n",
       "      <th></th>\n",
       "      <th></th>\n",
       "      <th></th>\n",
       "      <th></th>\n",
       "      <th></th>\n",
       "      <th></th>\n",
       "      <th></th>\n",
       "    </tr>\n",
       "  </thead>\n",
       "  <tbody>\n",
       "    <tr>\n",
       "      <th>0</th>\n",
       "      <td>2021-10-04</td>\n",
       "      <td>2021-09-27</td>\n",
       "      <td>joint</td>\n",
       "      <td>BP</td>\n",
       "      <td>BP plc</td>\n",
       "      <td>purchase</td>\n",
       "      <td>$1,001 - $15,000</td>\n",
       "      <td>Virginia Foxx</td>\n",
       "      <td>NC05</td>\n",
       "      <td>https://disclosures-clerk.house.gov/public_dis...</td>\n",
       "      <td>8000</td>\n",
       "      <td>Republican</td>\n",
       "    </tr>\n",
       "    <tr>\n",
       "      <th>1</th>\n",
       "      <td>2021-10-04</td>\n",
       "      <td>2021-09-13</td>\n",
       "      <td>joint</td>\n",
       "      <td>XOM</td>\n",
       "      <td>Exxon Mobil Corporation</td>\n",
       "      <td>purchase</td>\n",
       "      <td>$1,001 - $15,000</td>\n",
       "      <td>Virginia Foxx</td>\n",
       "      <td>NC05</td>\n",
       "      <td>https://disclosures-clerk.house.gov/public_dis...</td>\n",
       "      <td>8000</td>\n",
       "      <td>Republican</td>\n",
       "    </tr>\n",
       "    <tr>\n",
       "      <th>2</th>\n",
       "      <td>2021-10-04</td>\n",
       "      <td>2021-09-10</td>\n",
       "      <td>joint</td>\n",
       "      <td>ILPT</td>\n",
       "      <td>Industrial Logistics Properties Trust - Common...</td>\n",
       "      <td>purchase</td>\n",
       "      <td>$15,001 - $50,000</td>\n",
       "      <td>Virginia Foxx</td>\n",
       "      <td>NC05</td>\n",
       "      <td>https://disclosures-clerk.house.gov/public_dis...</td>\n",
       "      <td>32500</td>\n",
       "      <td>Republican</td>\n",
       "    </tr>\n",
       "    <tr>\n",
       "      <th>3</th>\n",
       "      <td>2021-10-04</td>\n",
       "      <td>2021-09-28</td>\n",
       "      <td>joint</td>\n",
       "      <td>PM</td>\n",
       "      <td>Phillip Morris International Inc</td>\n",
       "      <td>purchase</td>\n",
       "      <td>$15,001 - $50,000</td>\n",
       "      <td>Virginia Foxx</td>\n",
       "      <td>NC05</td>\n",
       "      <td>https://disclosures-clerk.house.gov/public_dis...</td>\n",
       "      <td>32500</td>\n",
       "      <td>Republican</td>\n",
       "    </tr>\n",
       "    <tr>\n",
       "      <th>4</th>\n",
       "      <td>2021-10-04</td>\n",
       "      <td>2021-09-17</td>\n",
       "      <td>self</td>\n",
       "      <td>BLK</td>\n",
       "      <td>BlackRock Inc</td>\n",
       "      <td>sale_partial</td>\n",
       "      <td>$1,001 - $15,000</td>\n",
       "      <td>Alan S. Lowenthal</td>\n",
       "      <td>CA47</td>\n",
       "      <td>https://disclosures-clerk.house.gov/public_dis...</td>\n",
       "      <td>8000</td>\n",
       "      <td>Democratic</td>\n",
       "    </tr>\n",
       "  </tbody>\n",
       "</table>\n",
       "</div>"
      ],
      "text/plain": [
       "      disclosure_date transaction_date  owner ticker  \\\n",
       "index                                                  \n",
       "0          2021-10-04       2021-09-27  joint     BP   \n",
       "1          2021-10-04       2021-09-13  joint    XOM   \n",
       "2          2021-10-04       2021-09-10  joint   ILPT   \n",
       "3          2021-10-04       2021-09-28  joint     PM   \n",
       "4          2021-10-04       2021-09-17   self    BLK   \n",
       "\n",
       "                                       asset_description          type  \\\n",
       "index                                                                    \n",
       "0                                                 BP plc      purchase   \n",
       "1                                Exxon Mobil Corporation      purchase   \n",
       "2      Industrial Logistics Properties Trust - Common...      purchase   \n",
       "3                       Phillip Morris International Inc      purchase   \n",
       "4                                          BlackRock Inc  sale_partial   \n",
       "\n",
       "                  amount     representative district  \\\n",
       "index                                                  \n",
       "0       $1,001 - $15,000      Virginia Foxx     NC05   \n",
       "1       $1,001 - $15,000      Virginia Foxx     NC05   \n",
       "2      $15,001 - $50,000      Virginia Foxx     NC05   \n",
       "3      $15,001 - $50,000      Virginia Foxx     NC05   \n",
       "4       $1,001 - $15,000  Alan S. Lowenthal     CA47   \n",
       "\n",
       "                                                ptr_link  est_amount  \\\n",
       "index                                                                  \n",
       "0      https://disclosures-clerk.house.gov/public_dis...        8000   \n",
       "1      https://disclosures-clerk.house.gov/public_dis...        8000   \n",
       "2      https://disclosures-clerk.house.gov/public_dis...       32500   \n",
       "3      https://disclosures-clerk.house.gov/public_dis...       32500   \n",
       "4      https://disclosures-clerk.house.gov/public_dis...        8000   \n",
       "\n",
       "            Party  \n",
       "index              \n",
       "0      Republican  \n",
       "1      Republican  \n",
       "2      Republican  \n",
       "3      Republican  \n",
       "4      Democratic  "
      ]
     },
     "metadata": {},
     "output_type": "display_data"
    }
   ],
   "source": [
    "# Cleaned and merged the Party column on representative name\n",
    "second_merge = second_merge.reset_index().drop_duplicates(subset='index', keep='last').set_index('index')\n",
    "third_merge = pd.concat([second_merge['representative'],second_merge['Party']], axis = 1)\n",
    "third_merge = third_merge.set_index('representative')\n",
    "third_merge['Party'] = third_merge['Party'].fillna(null_names)\n",
    "third_merge = third_merge.reset_index()\n",
    "fourth_merge = second_merge.merge(third_merge,left_index=True, right_index=True)\n",
    "final_merge = fourth_merge.drop(['representative_y','Party_x','Name1'],axis = 1).rename(columns = {'representative_x': 'representative', 'Party_y': 'Party'})\n",
    "display(final_merge.head())"
   ]
  },
  {
   "cell_type": "markdown",
   "metadata": {},
   "source": [
    "No more NaN values yay!"
   ]
  },
  {
   "cell_type": "code",
   "execution_count": 47,
   "metadata": {},
   "outputs": [
    {
     "data": {
      "text/plain": [
       "0.0"
      ]
     },
     "execution_count": 47,
     "metadata": {},
     "output_type": "execute_result"
    }
   ],
   "source": [
    "final_merge['Party'].isna().mean()"
   ]
  },
  {
   "cell_type": "code",
   "execution_count": 50,
   "metadata": {},
   "outputs": [],
   "source": [
    "final_merge.to_csv('transactions_w_party.csv')\n",
    "final_merge.to_csv('transactions_w_party.csv')"
   ]
  },
  {
   "cell_type": "markdown",
   "metadata": {},
   "source": [
    "#### Univariate Analysis"
   ]
  },
  {
   "cell_type": "markdown",
   "metadata": {},
   "source": [
    "Summary statistics of the estimated amount column"
   ]
  },
  {
   "cell_type": "code",
   "execution_count": 94,
   "metadata": {
    "scrolled": true
   },
   "outputs": [
    {
     "data": {
      "text/html": [
       "<div>\n",
       "<style scoped>\n",
       "    .dataframe tbody tr th:only-of-type {\n",
       "        vertical-align: middle;\n",
       "    }\n",
       "\n",
       "    .dataframe tbody tr th {\n",
       "        vertical-align: top;\n",
       "    }\n",
       "\n",
       "    .dataframe thead th {\n",
       "        text-align: right;\n",
       "    }\n",
       "</style>\n",
       "<table border=\"1\" class=\"dataframe\">\n",
       "  <thead>\n",
       "    <tr style=\"text-align: right;\">\n",
       "      <th></th>\n",
       "      <th>est_amount</th>\n",
       "    </tr>\n",
       "  </thead>\n",
       "  <tbody>\n",
       "    <tr>\n",
       "      <th>count</th>\n",
       "      <td>1.425400e+04</td>\n",
       "    </tr>\n",
       "    <tr>\n",
       "      <th>mean</th>\n",
       "      <td>5.785841e+04</td>\n",
       "    </tr>\n",
       "    <tr>\n",
       "      <th>std</th>\n",
       "      <td>5.917958e+05</td>\n",
       "    </tr>\n",
       "    <tr>\n",
       "      <th>min</th>\n",
       "      <td>1.001000e+03</td>\n",
       "    </tr>\n",
       "    <tr>\n",
       "      <th>25%</th>\n",
       "      <td>8.000000e+03</td>\n",
       "    </tr>\n",
       "    <tr>\n",
       "      <th>50%</th>\n",
       "      <td>8.000000e+03</td>\n",
       "    </tr>\n",
       "    <tr>\n",
       "      <th>75%</th>\n",
       "      <td>3.250000e+04</td>\n",
       "    </tr>\n",
       "    <tr>\n",
       "      <th>max</th>\n",
       "      <td>5.000000e+07</td>\n",
       "    </tr>\n",
       "  </tbody>\n",
       "</table>\n",
       "</div>"
      ],
      "text/plain": [
       "         est_amount\n",
       "count  1.425400e+04\n",
       "mean   5.785841e+04\n",
       "std    5.917958e+05\n",
       "min    1.001000e+03\n",
       "25%    8.000000e+03\n",
       "50%    8.000000e+03\n",
       "75%    3.250000e+04\n",
       "max    5.000000e+07"
      ]
     },
     "metadata": {},
     "output_type": "display_data"
    }
   ],
   "source": [
    "display(pd.DataFrame(df['est_amount'].describe()))"
   ]
  },
  {
   "cell_type": "markdown",
   "metadata": {},
   "source": [
    "Plotted the count for each estimated amount"
   ]
  },
  {
   "cell_type": "code",
   "execution_count": 118,
   "metadata": {},
   "outputs": [
    {
     "data": {
      "image/png": "[encoded data removed]",
      "text/plain": [
       "<Figure size 432x288 with 1 Axes>"
      ]
     },
     "metadata": {
      "needs_background": "light"
     },
     "output_type": "display_data"
    }
   ],
   "source": [
    "df.groupby('est_amount').count()['type'].plot(kind = 'bar', xlabel = 'Estimated Amount', ylabel = 'Frequency', title = 'Frequency of Trade Values');"
   ]
  },
  {
   "cell_type": "markdown",
   "metadata": {},
   "source": [
    "#### Bivariate Analysis"
   ]
  },
  {
   "cell_type": "markdown",
   "metadata": {},
   "source": [
    "We plotted the distribution of estimated trades for each party on the same bar chart. The distribution of trades seems to be significantly different for each party. We noticed Republicans have more trades for higher estimated amounts, which results in a higher mean value for Republicans. Therefore, we decided to test if there's a significant difference between the two distribution for our permutation test. "
   ]
  },
  {
   "cell_type": "code",
   "execution_count": 143,
   "metadata": {
    "scrolled": true
   },
   "outputs": [
    {
     "data": {
      "image/png": "[encoded data removed]",
      "text/plain": [
       "<Figure size 432x288 with 1 Axes>"
      ]
     },
     "metadata": {
      "needs_background": "light"
     },
     "output_type": "display_data"
    }
   ],
   "source": [
    "#Plotted the distribution of amount traded by political affiliation \n",
    "demo_dist = (final_merge[final_merge['Party']=='Democratic'].groupby('est_amount')['Party'].count() / len(final_merge[final_merge['Party']=='Democratic']['Party'])).rename('Democrats')\n",
    "rep_dist = (final_merge[final_merge['Party']=='Republican'].groupby('est_amount')['Party'].count() / len(final_merge[final_merge['Party']=='Republican']['Party'])).rename('Republicans')\n",
    "plot_table = pd.concat([demo_dist,rep_dist],axis = 1)\n",
    "plot_table = plot_table.fillna(0)\n",
    "plot_table.plot(kind = 'bar', alpha = 0.75, xlabel = 'Estimated Amount', ylabel = 'Proportion', title = 'Trade Value Per Party');"
   ]
  },
  {
   "cell_type": "markdown",
   "metadata": {},
   "source": [
    "#### Interesting Aggregates"
   ]
  },
  {
   "cell_type": "markdown",
   "metadata": {},
   "source": [
    "i. We grouped by owner types and found that joint owner type has the highest total amount traded. Dependent owner type has the lowest total amount traded. "
   ]
  },
  {
   "cell_type": "code",
   "execution_count": 104,
   "metadata": {
    "scrolled": false
   },
   "outputs": [
    {
     "data": {
      "text/html": [
       "<div>\n",
       "<style scoped>\n",
       "    .dataframe tbody tr th:only-of-type {\n",
       "        vertical-align: middle;\n",
       "    }\n",
       "\n",
       "    .dataframe tbody tr th {\n",
       "        vertical-align: top;\n",
       "    }\n",
       "\n",
       "    .dataframe thead th {\n",
       "        text-align: right;\n",
       "    }\n",
       "</style>\n",
       "<table border=\"1\" class=\"dataframe\">\n",
       "  <thead>\n",
       "    <tr style=\"text-align: right;\">\n",
       "      <th></th>\n",
       "      <th>est_amount</th>\n",
       "    </tr>\n",
       "    <tr>\n",
       "      <th>owner</th>\n",
       "      <th></th>\n",
       "    </tr>\n",
       "  </thead>\n",
       "  <tbody>\n",
       "    <tr>\n",
       "      <th>--</th>\n",
       "      <td>24983500</td>\n",
       "    </tr>\n",
       "    <tr>\n",
       "      <th>dependent</th>\n",
       "      <td>14001500</td>\n",
       "    </tr>\n",
       "    <tr>\n",
       "      <th>joint</th>\n",
       "      <td>299114509</td>\n",
       "    </tr>\n",
       "    <tr>\n",
       "      <th>self</th>\n",
       "      <td>270944223</td>\n",
       "    </tr>\n",
       "  </tbody>\n",
       "</table>\n",
       "</div>"
      ],
      "text/plain": [
       "           est_amount\n",
       "owner                \n",
       "--           24983500\n",
       "dependent    14001500\n",
       "joint       299114509\n",
       "self        270944223"
      ]
     },
     "metadata": {},
     "output_type": "display_data"
    }
   ],
   "source": [
    "display(df.groupby('owner').sum())"
   ]
  },
  {
   "cell_type": "markdown",
   "metadata": {},
   "source": [
    "We grouped by state and found that California has the highest total amount traded, while Arizona traded the least. In addition, we found that 7 states are not included in the data."
   ]
  },
  {
   "cell_type": "code",
   "execution_count": 153,
   "metadata": {
    "scrolled": false
   },
   "outputs": [
    {
     "data": {
      "text/html": [
       "<div>\n",
       "<style scoped>\n",
       "    .dataframe tbody tr th:only-of-type {\n",
       "        vertical-align: middle;\n",
       "    }\n",
       "\n",
       "    .dataframe tbody tr th {\n",
       "        vertical-align: top;\n",
       "    }\n",
       "\n",
       "    .dataframe thead th {\n",
       "        text-align: right;\n",
       "    }\n",
       "</style>\n",
       "<table border=\"1\" class=\"dataframe\">\n",
       "  <thead>\n",
       "    <tr style=\"text-align: right;\">\n",
       "      <th></th>\n",
       "      <th>state</th>\n",
       "      <th>est_amount</th>\n",
       "    </tr>\n",
       "  </thead>\n",
       "  <tbody>\n",
       "    <tr>\n",
       "      <th>0</th>\n",
       "      <td>CA</td>\n",
       "      <td>155341228</td>\n",
       "    </tr>\n",
       "    <tr>\n",
       "      <th>1</th>\n",
       "      <td>WA</td>\n",
       "      <td>136391500</td>\n",
       "    </tr>\n",
       "    <tr>\n",
       "      <th>2</th>\n",
       "      <td>NJ</td>\n",
       "      <td>96091005</td>\n",
       "    </tr>\n",
       "    <tr>\n",
       "      <th>3</th>\n",
       "      <td>TN</td>\n",
       "      <td>85742000</td>\n",
       "    </tr>\n",
       "    <tr>\n",
       "      <th>4</th>\n",
       "      <td>OK</td>\n",
       "      <td>81427500</td>\n",
       "    </tr>\n",
       "  </tbody>\n",
       "</table>\n",
       "</div>"
      ],
      "text/plain": [
       "  state  est_amount\n",
       "0    CA   155341228\n",
       "1    WA   136391500\n",
       "2    NJ    96091005\n",
       "3    TN    85742000\n",
       "4    OK    81427500"
      ]
     },
     "metadata": {},
     "output_type": "display_data"
    },
    {
     "data": {
      "text/html": [
       "<div>\n",
       "<style scoped>\n",
       "    .dataframe tbody tr th:only-of-type {\n",
       "        vertical-align: middle;\n",
       "    }\n",
       "\n",
       "    .dataframe tbody tr th {\n",
       "        vertical-align: top;\n",
       "    }\n",
       "\n",
       "    .dataframe thead th {\n",
       "        text-align: right;\n",
       "    }\n",
       "</style>\n",
       "<table border=\"1\" class=\"dataframe\">\n",
       "  <thead>\n",
       "    <tr style=\"text-align: right;\">\n",
       "      <th></th>\n",
       "      <th>state</th>\n",
       "      <th>est_amount</th>\n",
       "    </tr>\n",
       "  </thead>\n",
       "  <tbody>\n",
       "    <tr>\n",
       "      <th>38</th>\n",
       "      <td>DC</td>\n",
       "      <td>172500</td>\n",
       "    </tr>\n",
       "    <tr>\n",
       "      <th>39</th>\n",
       "      <td>AR</td>\n",
       "      <td>170000</td>\n",
       "    </tr>\n",
       "    <tr>\n",
       "      <th>40</th>\n",
       "      <td>MS</td>\n",
       "      <td>105000</td>\n",
       "    </tr>\n",
       "    <tr>\n",
       "      <th>41</th>\n",
       "      <td>LA</td>\n",
       "      <td>72000</td>\n",
       "    </tr>\n",
       "    <tr>\n",
       "      <th>42</th>\n",
       "      <td>AZ</td>\n",
       "      <td>48000</td>\n",
       "    </tr>\n",
       "  </tbody>\n",
       "</table>\n",
       "</div>"
      ],
      "text/plain": [
       "   state  est_amount\n",
       "38    DC      172500\n",
       "39    AR      170000\n",
       "40    MS      105000\n",
       "41    LA       72000\n",
       "42    AZ       48000"
      ]
     },
     "metadata": {},
     "output_type": "display_data"
    }
   ],
   "source": [
    "states_copy = df.copy()\n",
    "# Stripped district keeping only the state abbreviation\n",
    "states_copy['state'] = states_copy['district'].transform(lambda s: s[:2])\n",
    "# Used groupby on state, aggregated with sum, and sorted by amount\n",
    "district_tbl = states_copy.groupby('state').sum().sort_values(by = 'est_amount', ascending = False).reset_index()\n",
    "display(district_tbl.head())\n",
    "display(district_tbl.tail())"
   ]
  },
  {
   "cell_type": "markdown",
   "metadata": {},
   "source": [
    "We grouped by ticker and found that the top five most traded companies"
   ]
  },
  {
   "cell_type": "code",
   "execution_count": 154,
   "metadata": {
    "scrolled": false
   },
   "outputs": [
    {
     "data": {
      "text/html": [
       "<div>\n",
       "<style scoped>\n",
       "    .dataframe tbody tr th:only-of-type {\n",
       "        vertical-align: middle;\n",
       "    }\n",
       "\n",
       "    .dataframe tbody tr th {\n",
       "        vertical-align: top;\n",
       "    }\n",
       "\n",
       "    .dataframe thead th {\n",
       "        text-align: right;\n",
       "    }\n",
       "</style>\n",
       "<table border=\"1\" class=\"dataframe\">\n",
       "  <thead>\n",
       "    <tr style=\"text-align: right;\">\n",
       "      <th></th>\n",
       "      <th>est_amount</th>\n",
       "    </tr>\n",
       "    <tr>\n",
       "      <th>ticker</th>\n",
       "      <th></th>\n",
       "    </tr>\n",
       "  </thead>\n",
       "  <tbody>\n",
       "    <tr>\n",
       "      <th>--</th>\n",
       "      <td>225504000</td>\n",
       "    </tr>\n",
       "    <tr>\n",
       "      <th>MSFT</th>\n",
       "      <td>192210500</td>\n",
       "    </tr>\n",
       "    <tr>\n",
       "      <th>AAPL</th>\n",
       "      <td>26968502</td>\n",
       "    </tr>\n",
       "    <tr>\n",
       "      <th>AM</th>\n",
       "      <td>10565500</td>\n",
       "    </tr>\n",
       "    <tr>\n",
       "      <th>TDDXX</th>\n",
       "      <td>10210000</td>\n",
       "    </tr>\n",
       "  </tbody>\n",
       "</table>\n",
       "</div>"
      ],
      "text/plain": [
       "        est_amount\n",
       "ticker            \n",
       "--       225504000\n",
       "MSFT     192210500\n",
       "AAPL      26968502\n",
       "AM        10565500\n",
       "TDDXX     10210000"
      ]
     },
     "execution_count": 154,
     "metadata": {},
     "output_type": "execute_result"
    }
   ],
   "source": [
    "# Grouped by ticker and sorted by amount\n",
    "df.groupby('ticker').sum().sort_values(by = 'est_amount', ascending = False).head()"
   ]
  },
  {
   "cell_type": "markdown",
   "metadata": {},
   "source": [
    "#### Q 1, 2 answers"
   ]
  },
  {
   "cell_type": "markdown",
   "metadata": {},
   "source": [
    "Question 1: Who are the top 5 congress people who have made the largest trades?\n",
    "\n",
    "    1. Suzan K. DelBene\n",
    "    2. Josh Gottheimer\n",
    "    3. Mark Green\n",
    "    4. Kevin Hern\n",
    "    5. Nancy Pelosi\n",
    "\n",
    "Question 2: What are the top 5 most traded companies by congress people?\n",
    "\n",
    "    1. Microsoft\n",
    "    2. Apple\n",
    "    3. Antero Midstream\n",
    "    4. BlackRock    \n",
    "    5. Shell"
   ]
  },
  {
   "cell_type": "code",
   "execution_count": 160,
   "metadata": {},
   "outputs": [
    {
     "data": {
      "text/html": [
       "<div>\n",
       "<style scoped>\n",
       "    .dataframe tbody tr th:only-of-type {\n",
       "        vertical-align: middle;\n",
       "    }\n",
       "\n",
       "    .dataframe tbody tr th {\n",
       "        vertical-align: top;\n",
       "    }\n",
       "\n",
       "    .dataframe thead th {\n",
       "        text-align: right;\n",
       "    }\n",
       "</style>\n",
       "<table border=\"1\" class=\"dataframe\">\n",
       "  <thead>\n",
       "    <tr style=\"text-align: right;\">\n",
       "      <th></th>\n",
       "      <th>est_amount</th>\n",
       "    </tr>\n",
       "    <tr>\n",
       "      <th>representative</th>\n",
       "      <th></th>\n",
       "    </tr>\n",
       "  </thead>\n",
       "  <tbody>\n",
       "    <tr>\n",
       "      <th>Suzan K. DelBene</th>\n",
       "      <td>124495500</td>\n",
       "    </tr>\n",
       "    <tr>\n",
       "      <th>Josh Gottheimer</th>\n",
       "      <td>90589000</td>\n",
       "    </tr>\n",
       "    <tr>\n",
       "      <th>Mark Green</th>\n",
       "      <td>83639000</td>\n",
       "    </tr>\n",
       "    <tr>\n",
       "      <th>Kevin Hern</th>\n",
       "      <td>80661500</td>\n",
       "    </tr>\n",
       "    <tr>\n",
       "      <th>Nancy Pelosi</th>\n",
       "      <td>66390000</td>\n",
       "    </tr>\n",
       "  </tbody>\n",
       "</table>\n",
       "</div>"
      ],
      "text/plain": [
       "                  est_amount\n",
       "representative              \n",
       "Suzan K. DelBene   124495500\n",
       "Josh Gottheimer     90589000\n",
       "Mark Green          83639000\n",
       "Kevin Hern          80661500\n",
       "Nancy Pelosi        66390000"
      ]
     },
     "metadata": {},
     "output_type": "display_data"
    },
    {
     "data": {
      "text/html": [
       "<div>\n",
       "<style scoped>\n",
       "    .dataframe tbody tr th:only-of-type {\n",
       "        vertical-align: middle;\n",
       "    }\n",
       "\n",
       "    .dataframe tbody tr th {\n",
       "        vertical-align: top;\n",
       "    }\n",
       "\n",
       "    .dataframe thead th {\n",
       "        text-align: right;\n",
       "    }\n",
       "</style>\n",
       "<table border=\"1\" class=\"dataframe\">\n",
       "  <thead>\n",
       "    <tr style=\"text-align: right;\">\n",
       "      <th></th>\n",
       "      <th>est_amount</th>\n",
       "    </tr>\n",
       "    <tr>\n",
       "      <th>ticker</th>\n",
       "      <th></th>\n",
       "    </tr>\n",
       "  </thead>\n",
       "  <tbody>\n",
       "    <tr>\n",
       "      <th>MSFT</th>\n",
       "      <td>192210500</td>\n",
       "    </tr>\n",
       "    <tr>\n",
       "      <th>AAPL</th>\n",
       "      <td>26968502</td>\n",
       "    </tr>\n",
       "    <tr>\n",
       "      <th>AM</th>\n",
       "      <td>10565500</td>\n",
       "    </tr>\n",
       "    <tr>\n",
       "      <th>TDDXX</th>\n",
       "      <td>10210000</td>\n",
       "    </tr>\n",
       "    <tr>\n",
       "      <th>SHLX</th>\n",
       "      <td>9161000</td>\n",
       "    </tr>\n",
       "  </tbody>\n",
       "</table>\n",
       "</div>"
      ],
      "text/plain": [
       "        est_amount\n",
       "ticker            \n",
       "MSFT     192210500\n",
       "AAPL      26968502\n",
       "AM        10565500\n",
       "TDDXX     10210000\n",
       "SHLX       9161000"
      ]
     },
     "metadata": {},
     "output_type": "display_data"
    }
   ],
   "source": [
    "# Gets sum of individual's trades and the party they represent\n",
    "trade_amnts = final_merge.groupby(['representative', 'Party']).sum()\n",
    "# Gets sum of individual's trades\n",
    "trade_sum = final_merge.groupby('representative').sum()\n",
    "# Returns top 5 largest traders\n",
    "top5_largest_traders = trade_sum['est_amount'].sort_values(ascending = False)[0:5]\n",
    "# Finds the top 5 most traded tickers\n",
    "most_traded = final_merge.groupby('ticker')['est_amount'].sum()[1:]\n",
    "top5_traded = most_traded.sort_values(ascending = False)[:5]\n",
    "display(pd.DataFrame(top5_largest_traders))\n",
    "display(pd.DataFrame(top5_traded))"
   ]
  },
  {
   "cell_type": "markdown",
   "metadata": {},
   "source": [
    "### Assessment of Missingness"
   ]
  },
  {
   "cell_type": "markdown",
   "metadata": {},
   "source": [
    "TVD Function!"
   ]
  },
  {
   "cell_type": "code",
   "execution_count": 161,
   "metadata": {},
   "outputs": [
    {
     "data": {
      "text/plain": [
       "0.05898092644574769"
      ]
     },
     "execution_count": 161,
     "metadata": {},
     "output_type": "execute_result"
    }
   ],
   "source": [
    "# returns tvd test statistic\n",
    "def total_variation_distance(dist1, dist2):\n",
    "    return np.sum(np.abs(dist1 - dist2)) / 2"
   ]
  },
  {
   "cell_type": "code",
   "execution_count": 169,
   "metadata": {},
   "outputs": [],
   "source": [
    "# Makes a copy of the original DataFrame for permutation testing\n",
    "shuffled_df = df.copy()"
   ]
  },
  {
   "cell_type": "markdown",
   "metadata": {},
   "source": [
    "Defined function to perform permutation test"
   ]
  },
  {
   "cell_type": "code",
   "execution_count": 170,
   "metadata": {},
   "outputs": [],
   "source": [
    "def permutation_test(col, dependency, shuffled):\n",
    "    \n",
    "    shuffled[col + '_missing'] = shuffled[col].isna()\n",
    "\n",
    "    # Computes the observed tvd\n",
    "    piv1 = shuffled.pivot_table(index = col + '_missing', columns = dependency, aggfunc = 'count', values = 'amount').fillna(0)\n",
    "    piv1.loc[False] = piv1.loc[False] / piv1.loc[False].sum()\n",
    "    piv1.loc[True] = piv1.loc[True] / piv1.loc[True].sum()\n",
    "    observed_tvd = total_variation_distance(piv1.loc[False],piv1.loc[True])\n",
    "    # Simulation\n",
    "    results = []\n",
    "    for _ in range(100):\n",
    "        shuffled['shuff'] = pd.Series(np.random.permutation(shuffled[col + '_missing']))\n",
    "        piv = shuffled.pivot_table(index = 'shuff', columns = dependency, aggfunc = 'count', values = 'amount').fillna(0)\n",
    "        piv.loc[False] = piv.loc[False] / piv.loc[False].sum()\n",
    "        piv.loc[True] = piv.loc[True] / piv.loc[True].sum()\n",
    "        results.append(total_variation_distance(piv.loc[False], piv.loc[True]))\n",
    "    # Returns a tuple of the pivot table as well as the p-value\n",
    "    return (piv1.T, (results >= observed_tvd).mean())"
   ]
  },
  {
   "cell_type": "markdown",
   "metadata": {},
   "source": [
    "Permutation test of the missingness of the ticker column based on the value of owner"
   ]
  },
  {
   "cell_type": "code",
   "execution_count": 168,
   "metadata": {},
   "outputs": [
    {
     "name": "stdout",
     "output_type": "stream",
     "text": [
      "p-val: 0.0\n"
     ]
    },
    {
     "data": {
      "image/png": "[encoded data removed]",
      "text/plain": [
       "<Figure size 432x288 with 1 Axes>"
      ]
     },
     "metadata": {
      "needs_background": "light"
     },
     "output_type": "display_data"
    }
   ],
   "source": [
    "pt = permutation_test('ticker', 'owner', shuffled_df)\n",
    "pt[0].plot(kind = 'bar', xlabel = 'Type of Owner', ylabel = 'Proportion of Missingness', title = 'Missingness of Ticker by Owner Type');\n",
    "print('p-val: ' + str(pt[1]))"
   ]
  },
  {
   "cell_type": "markdown",
   "metadata": {},
   "source": [
    "Permutation test of the missingness of the ticker column based on the value of estimated amount"
   ]
  },
  {
   "cell_type": "code",
   "execution_count": 31,
   "metadata": {},
   "outputs": [],
   "source": [
    "pt2 = permutation_test('ticker', 'est_amount', shuffled_df)"
   ]
  },
  {
   "cell_type": "code",
   "execution_count": 122,
   "metadata": {
    "scrolled": true
   },
   "outputs": [
    {
     "name": "stdout",
     "output_type": "stream",
     "text": [
      "p-val: 0.0\n"
     ]
    },
    {
     "data": {
      "image/png": "[encoded data removed]",
      "text/plain": [
       "<Figure size 432x288 with 1 Axes>"
      ]
     },
     "metadata": {
      "needs_background": "light"
     },
     "output_type": "display_data"
    }
   ],
   "source": [
    "pt2[0].plot(kind = 'bar', xlabel = 'Estimated Amount', ylabel = 'Proportion of Missingness', title = 'Missingness of Ticker by Estimated Amount');\n",
    "print('p-val: ' + str(pt[1]))"
   ]
  },
  {
   "cell_type": "markdown",
   "metadata": {},
   "source": [
    "Permutation test of the missingness of the ticker column based on the value of district"
   ]
  },
  {
   "cell_type": "code",
   "execution_count": 33,
   "metadata": {},
   "outputs": [],
   "source": [
    "pt3 = permutation_test('ticker', 'district', shuffled_df)"
   ]
  },
  {
   "cell_type": "code",
   "execution_count": 132,
   "metadata": {
    "scrolled": false
   },
   "outputs": [
    {
     "name": "stdout",
     "output_type": "stream",
     "text": [
      "p-val: 0.0\n"
     ]
    },
    {
     "data": {
      "image/png": "[encoded data removed]",
      "text/plain": [
       "<Figure size 2160x360 with 1 Axes>"
      ]
     },
     "metadata": {
      "needs_background": "light"
     },
     "output_type": "display_data"
    }
   ],
   "source": [
    "pt3[0].plot(kind = 'bar', figsize = [30,  5], legend = True, xlabel = 'District', ylabel = 'Proportion of Missingness', title = 'Missingness of Ticker by Congressional District');\n",
    "print('p-val: ' + str(pt3[1]))"
   ]
  },
  {
   "cell_type": "markdown",
   "metadata": {},
   "source": [
    "Null Hypothesis: the distribution of 'amount' when 'owner' is missing is the same as the distribution of 'amount' when 'owner' is not missing.\n",
    "\n",
    "Result: p-value = 0\n",
    "\n",
    "Conclusion: The missingness of the owner column is MAR dependent on the amount invested column."
   ]
  },
  {
   "cell_type": "markdown",
   "metadata": {},
   "source": [
    "### Permutation Testing (Q3)"
   ]
  },
  {
   "cell_type": "markdown",
   "metadata": {},
   "source": [
    "From the bivariate analysis, we found that there seems to be a significant difference between the distribution democratic trades and republican trades. Below is the bivariate analysis again."
   ]
  },
  {
   "cell_type": "code",
   "execution_count": 117,
   "metadata": {
    "scrolled": true
   },
   "outputs": [
    {
     "data": {
      "image/png": "[encoded data removed]",
      "text/plain": [
       "<Figure size 432x288 with 1 Axes>"
      ]
     },
     "metadata": {
      "needs_background": "light"
     },
     "output_type": "display_data"
    }
   ],
   "source": [
    "demo_dist = (final_merge[final_merge['Party']=='Democratic'].groupby('est_amount')['Party'].count() / len(final_merge[final_merge['Party']=='Democratic']['Party'])).rename('Democrats')\n",
    "rep_dist = (final_merge[final_merge['Party']=='Republican'].groupby('est_amount')['Party'].count() / len(final_merge[final_merge['Party']=='Republican']['Party'])).rename('Republicans')\n",
    "plot_table = pd.concat([demo_dist,rep_dist],axis = 1\n",
    "plot_table = plot_table.fillna(0)\n",
    "#Plotted the distribution of amount traded by political affiliation \n",
    "plot_table.plot(kind = 'bar', alpha = 0.75, xlabel = 'Estimated Amount', ylabel = 'Proportion', title = 'Trade Value Per Party');"
   ]
  },
  {
   "cell_type": "markdown",
   "metadata": {},
   "source": [
    "Question: Do Republicans make larger trades than Democrats?\n",
    "\n",
    "    H0: In the population, the mean transaction amount for the Democratic and Republican parties have the same distribution. The difference we saw was due to random chance.\n",
    "    \n",
    "    H1: In the population, the mean transaction amount for Republicans is higher than that of Democrats, on average.\n",
    "    \n",
    "    Test statistic: Signed difference of means between Republican trades and Democrat trades.\n",
    "    \n",
    "    Alpha: 0.05\n",
    "    \n",
    "    Result: p-value = 0.084\n"
   ]
  },
  {
   "cell_type": "markdown",
   "metadata": {},
   "source": [
    "Cleaned data to prepare for permutation testing"
   ]
  },
  {
   "cell_type": "code",
   "execution_count": 173,
   "metadata": {},
   "outputs": [
    {
     "data": {
      "text/plain": [
       "14876.24409778534"
      ]
     },
     "execution_count": 173,
     "metadata": {},
     "output_type": "execute_result"
    }
   ],
   "source": [
    "# Grabbed only the columns we want to perform the permutation test with\n",
    "permutation_data = final_merge[['est_amount','Party']]\n",
    "\n",
    "# Queried for the estimated amounts per specific party\n",
    "republicans = permutation_data[permutation_data['Party'] == 'Republican']\n",
    "democrats = permutation_data[permutation_data['Party'] == 'Democratic']\n",
    "\n",
    "# Estimated amounts per specific party\n",
    "R_amnts = republicans['est_amount']\n",
    "D_amnts = democrats['est_amount']\n",
    "\n",
    "# Difference of signed means\n",
    "diff_means = lambda x, y: x.mean() - y.mean()\n",
    "\n",
    "# How much republicans are larger than democrats\n",
    "observed_diff = diff_means(R_amnts, D_amnts)\n",
    "observed_diff"
   ]
  },
  {
   "cell_type": "markdown",
   "metadata": {},
   "source": [
    "Permutation testing by simulating 1000 permutations of the party column and storing the difference in means into the results list "
   ]
  },
  {
   "cell_type": "code",
   "execution_count": 50,
   "metadata": {},
   "outputs": [
    {
     "name": "stderr",
     "output_type": "stream",
     "text": [
      "C:\\Users\\haich\\anaconda3\\lib\\site-packages\\ipykernel_launcher.py:3: SettingWithCopyWarning: \n",
      "A value is trying to be set on a copy of a slice from a DataFrame.\n",
      "Try using .loc[row_indexer,col_indexer] = value instead\n",
      "\n",
      "See the caveats in the documentation: https://pandas.pydata.org/pandas-docs/stable/user_guide/indexing.html#returning-a-view-versus-a-copy\n",
      "  This is separate from the ipykernel package so we can avoid doing imports until\n"
     ]
    }
   ],
   "source": [
    "# Simulation\n",
    "results = []\n",
    "for _ in range(1000):\n",
    "    permutation_data['Party'] = np.random.permutation(permutation_data['Party'])\n",
    "    republicans = permutation_data[permutation_data['Party'] == 'Republican'] \n",
    "    democrats = permutation_data[permutation_data['Party'] == 'Democratic']\n",
    "    R_amnts = republicans['est_amount']\n",
    "    D_amnts = democrats['est_amount']\n",
    "    diff = diff_means(R_amnts, D_amnts)\n",
    "    results.append(diff)"
   ]
  },
  {
   "cell_type": "markdown",
   "metadata": {},
   "source": [
    "P-value computation, standardization, and graphing of the distribution."
   ]
  },
  {
   "cell_type": "code",
   "execution_count": 177,
   "metadata": {},
   "outputs": [
    {
     "data": {
      "image/png": "[encoded data removed]",
      "text/plain": [
       "<Figure size 432x288 with 1 Axes>"
      ]
     },
     "metadata": {
      "needs_background": "light"
     },
     "output_type": "display_data"
    }
   ],
   "source": [
    "p_val = (np.array(results) >= observed_diff).mean()\n",
    "standardized_pval = (observed_diff - np.array(results).mean()) / np.array(results).std() #extra credit?? :)\n",
    "pd.Series((np.array(results) - np.array(results).mean()) / np.array(results).std()).plot(kind = 'kde', title = 'z-score distribution')\n",
    "plt.axvline(x=standardized_pval, color='red', linewidth=2);"
   ]
  },
  {
   "cell_type": "code",
   "execution_count": 179,
   "metadata": {},
   "outputs": [
    {
     "data": {
      "text/plain": [
       "0.091"
      ]
     },
     "execution_count": 179,
     "metadata": {},
     "output_type": "execute_result"
    }
   ],
   "source": [
    "p_val"
   ]
  },
  {
   "cell_type": "markdown",
   "metadata": {},
   "source": [
    "#### Conclusion: \n",
    "    We observed a p-value of 0.084, which is greater than our alpha of 0.05. Therefore, we don't have enough evidence to reject our null hypothesis. "
   ]
  }
 ],
 "metadata": {
  "kernelspec": {
   "display_name": "Python 3",
   "language": "python",
   "name": "python3"
  },
  "language_info": {
   "codemirror_mode": {
    "name": "ipython",
    "version": 3
   },
   "file_extension": ".py",
   "mimetype": "text/x-python",
   "name": "python",
   "nbconvert_exporter": "python",
   "pygments_lexer": "ipython3",
   "version": "3.7.11"
  }
 },
 "nbformat": 4,
 "nbformat_minor": 2
}
